{
  "nbformat": 4,
  "nbformat_minor": 0,
  "metadata": {
    "colab": {
      "name": "spark regresi",
      "provenance": [],
      "collapsed_sections": []
    },
    "kernelspec": {
      "name": "python3",
      "display_name": "Python 3"
    },
    "language_info": {
      "name": "python"
    }
  },
  "cells": [
    {
      "cell_type": "markdown",
      "metadata": {
        "id": "3m8Cm7xo_FEj"
      },
      "source": [
        "Kelompok :\n",
        "Eunice Cristine\n",
        "Fasya Ghassani Hadiyan\n",
        "Ferry Abu Darrin Alghifari"
      ]
    },
    {
      "cell_type": "code",
      "metadata": {
        "id": "wlkLD3HmPfAR"
      },
      "source": [
        ""
      ],
      "execution_count": null,
      "outputs": []
    },
    {
      "cell_type": "code",
      "metadata": {
        "colab": {
          "base_uri": "https://localhost:8080/"
        },
        "id": "6mpNibhopv_S",
        "outputId": "94c0a448-43b0-4a91-fbfc-d37cec0bcd63"
      },
      "source": [
        "from google.colab import drive\n",
        "drive.mount('/content/drive')"
      ],
      "execution_count": null,
      "outputs": [
        {
          "output_type": "stream",
          "text": [
            "Mounted at /content/drive\n"
          ],
          "name": "stdout"
        }
      ]
    },
    {
      "cell_type": "code",
      "metadata": {
        "colab": {
          "base_uri": "https://localhost:8080/"
        },
        "id": "bqymp-sip4kN",
        "outputId": "35e722f7-9877-4476-e45a-8517887ef613"
      },
      "source": [
        "import os\n",
        "!pwd\n",
        "os.chdir(\"/content/drive/My Drive\")\n",
        "os.chdir(\"/\")\n",
        "!pwd\n",
        "!ls"
      ],
      "execution_count": null,
      "outputs": [
        {
          "output_type": "stream",
          "text": [
            "/content\n",
            "/\n",
            "bin\t datalab  home\t lib64\topt   run   sys\t\t       tools\n",
            "boot\t dev\t  lib\t media\tproc  sbin  tensorflow-1.15.2  usr\n",
            "content  etc\t  lib32  mnt\troot  srv   tmp\t\t       var\n"
          ],
          "name": "stdout"
        }
      ]
    },
    {
      "cell_type": "code",
      "metadata": {
        "colab": {
          "base_uri": "https://localhost:8080/"
        },
        "id": "tT_0gjwHqS1i",
        "outputId": "5c71dc95-cf51-44fe-886c-be8a4aa1c386"
      },
      "source": [
        "!apt-get install openjdk-8-jdk-headless -qq > /dev/null\n",
        "!wget -q https://archive.apache.org/dist/spark/spark-2.4.1/spark-2.4.1-bin-hadoop2.7.tgz\n",
        "!tar xf spark-2.4.1-bin-hadoop2.7.tgz\n",
        "!pip install -q findspark\n",
        "\n",
        "import os\n",
        "os.environ[\"JAVA_HOME\"] = \"/usr/lib/jvm/java-8-openjdk-amd64\"\n",
        "os.environ[\"SPARK_HOME\"] = \"/spark-2.4.1-bin-hadoop2.7\"\n",
        "\n",
        "import findspark\n",
        "findspark.init()\n",
        "from pyspark.sql import SparkSession\n",
        "spark = SparkSession.builder.master(\"local[*]\").getOrCreate()\n",
        "\n",
        "spark\n",
        "!jps"
      ],
      "execution_count": null,
      "outputs": [
        {
          "output_type": "stream",
          "text": [
            "408 SparkSubmit\n",
            "474 Jps\n"
          ],
          "name": "stdout"
        }
      ]
    },
    {
      "cell_type": "code",
      "metadata": {
        "colab": {
          "base_uri": "https://localhost:8080/",
          "height": 196
        },
        "id": "EzlQgigOrjKK",
        "outputId": "74c9e67f-440b-4ab0-c0a1-dd21215b0028"
      },
      "source": [
        "import pyspark\n",
        "from pyspark.context import SparkContext\n",
        "spark = SparkSession\\\n",
        "        .builder\\\n",
        "        .appName(\"Map Pada Spark\")\\\n",
        "        .getOrCreate()\n",
        "        \n",
        "#sc = SparkContext.getOrCreate()\n",
        "sc = spark.sparkContext\n",
        "sc"
      ],
      "execution_count": null,
      "outputs": [
        {
          "output_type": "execute_result",
          "data": {
            "text/html": [
              "\n",
              "        <div>\n",
              "            <p><b>SparkContext</b></p>\n",
              "\n",
              "            <p><a href=\"http://f8a4179145cd:4040\">Spark UI</a></p>\n",
              "\n",
              "            <dl>\n",
              "              <dt>Version</dt>\n",
              "                <dd><code>v2.4.1</code></dd>\n",
              "              <dt>Master</dt>\n",
              "                <dd><code>local[*]</code></dd>\n",
              "              <dt>AppName</dt>\n",
              "                <dd><code>pyspark-shell</code></dd>\n",
              "            </dl>\n",
              "        </div>\n",
              "        "
            ],
            "text/plain": [
              "<SparkContext master=local[*] appName=pyspark-shell>"
            ]
          },
          "metadata": {
            "tags": []
          },
          "execution_count": 4
        }
      ]
    },
    {
      "cell_type": "code",
      "metadata": {
        "colab": {
          "resources": {
            "http://localhost:8080/nbextensions/google.colab/files.js": {
              "data": "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",
              "ok": true,
              "headers": [
                [
                  "content-type",
                  "application/javascript"
                ]
              ],
              "status": 200,
              "status_text": ""
            }
          },
          "base_uri": "https://localhost:8080/",
          "height": 109
        },
        "id": "w4oqV3bawMLL",
        "outputId": "dad1c3bf-d33d-40b1-c603-cdf27d73a55a"
      },
      "source": [
        "from google.colab import files\n",
        "files.upload()"
      ],
      "execution_count": 12,
      "outputs": [
        {
          "output_type": "display_data",
          "data": {
            "text/html": [
              "\n",
              "     <input type=\"file\" id=\"files-438c5c2d-68dd-43f0-8ccf-cc6cb337a4d8\" name=\"files[]\" multiple disabled\n",
              "        style=\"border:none\" />\n",
              "     <output id=\"result-438c5c2d-68dd-43f0-8ccf-cc6cb337a4d8\">\n",
              "      Upload widget is only available when the cell has been executed in the\n",
              "      current browser session. Please rerun this cell to enable.\n",
              "      </output>\n",
              "      <script src=\"/nbextensions/google.colab/files.js\"></script> "
            ],
            "text/plain": [
              "<IPython.core.display.HTML object>"
            ]
          },
          "metadata": {
            "tags": []
          }
        },
        {
          "output_type": "stream",
          "text": [
            "Saving srr.csv to srr.csv\n"
          ],
          "name": "stdout"
        },
        {
          "output_type": "execute_result",
          "data": {
            "text/plain": [
              "{'srr.csv': b'usia,berat,tinggi,leher,dada,perut,pinggul,paha,lutut,pk,bisep,lb,pt,lemak\\r\\n27,274,29,45,86,103,89,81,38,31,42,23,16,16\\r\\n34,269,66,31,84,100,143,67,46,20,39,32,17,24\\r\\n23,224,76,45,107,117,117,47,34,30,33,29,15,0\\r\\n39,250,33,36,112,97,140,64,46,23,41,23,15,7\\r\\n52,276,72,47,95,138,130,61,34,26,43,28,20,32\\r\\n23,158,62,40,110,134,111,73,41,24,39,24,16,26\\r\\n69,214,42,49,98,122,86,64,34,23,37,32,15,2\\r\\n65,266,46,39,124,96,116,52,45,24,40,28,15,13\\r\\n25,324,46,44,135,100,86,47,37,29,33,31,17,6\\r\\n80,324,76,37,112,96,124,61,33,23,33,31,18,36\\r\\n43,283,35,48,119,94,134,67,44,19,44,30,15,26\\r\\n68,297,68,50,82,109,119,64,44,24,40,24,16,46\\r\\n56,254,51,39,110,127,101,72,34,25,42,30,19,31\\r\\n49,177,71,33,112,111,126,52,40,29,28,26,16,0\\r\\n22,259,34,34,93,115,144,62,40,29,34,21,18,15\\r\\n30,184,71,46,108,140,101,67,33,29,35,26,18,34\\r\\n53,256,44,38,88,91,140,83,39,23,42,24,17,7\\r\\n76,248,54,34,127,140,133,85,42,20,39,32,17,28\\r\\n41,228,44,34,102,97,133,77,34,27,30,25,16,3\\r\\n43,255,41,42,90,135,119,54,36,27,28,29,17,2\\r\\n35,181,51,41,131,79,85,55,43,21,32,28,20,24\\r\\n68,129,44,42,125,97,112,85,33,24,25,31,19,13\\r\\n41,332,47,35,89,147,103,72,42,25,27,30,15,43\\r\\n64,339,38,32,94,129,121,80,33,21,30,33,20,27\\r\\n50,268,64,44,109,114,119,55,34,32,35,31,17,23\\r\\n70,319,29,44,90,109,110,81,45,25,33,29,18,29\\r\\n63,349,73,33,116,138,116,86,42,31,25,26,17,7\\r\\n70,322,71,50,110,98,138,62,41,22,29,26,18,20\\r\\n62,340,68,42,90,94,127,52,33,29,40,32,16,30\\r\\n34,199,29,45,108,115,128,62,35,21,25,27,17,3\\r\\n41,141,58,36,81,109,145,64,39,31,27,22,20,30\\r\\n22,226,52,40,111,104,109,82,45,25,39,21,15,45\\r\\n52,188,55,34,103,78,124,62,38,23,44,32,17,0\\r\\n58,153,31,41,128,71,127,79,48,28,42,22,18,13\\r\\n33,195,48,44,123,86,94,77,46,27,40,27,19,9\\r\\n62,218,40,37,87,85,143,73,38,22,27,24,16,13\\r\\n22,150,39,48,113,99,139,57,36,26,27,24,15,3\\r\\n44,219,51,32,124,123,90,84,47,24,38,28,19,21\\r\\n52,314,63,50,79,75,137,53,44,19,42,30,17,0\\r\\n77,239,51,34,135,139,112,64,36,27,31,28,16,44\\r\\n32,295,66,48,106,98,133,71,34,19,37,22,15,35\\r\\n62,150,56,41,116,123,88,86,34,21,43,26,17,24\\r\\n46,154,60,49,125,94,117,66,47,22,27,33,16,4\\r\\n69,273,53,39,105,104,88,78,36,19,36,21,15,23\\r\\n68,118,43,47,104,96,92,80,33,22,31,21,16,34\\r\\n78,184,29,43,98,146,99,86,34,31,39,24,15,35\\r\\n26,206,56,40,84,73,139,71,33,32,35,26,18,35\\r\\n56,261,62,47,102,69,140,47,39,31,36,21,16,24\\r\\n29,249,45,37,91,69,123,84,34,31,38,27,15,22\\r\\n34,305,53,43,93,138,120,63,36,27,24,30,19,38\\r\\n59,318,47,31,84,79,123,52,37,19,30,28,18,30\\r\\n31,266,64,38,132,130,93,73,40,21,34,29,15,17\\r\\n79,329,56,43,97,104,96,71,46,24,40,23,18,1\\r\\n72,327,59,37,96,72,142,75,38,29,24,24,18,17\\r\\n57,190,55,47,135,128,114,75,38,24,31,28,20,12\\r\\n46,277,55,38,89,95,93,48,44,25,32,21,17,19\\r\\n47,283,50,50,110,107,107,67,44,19,25,31,16,22\\r\\n22,264,45,46,134,139,88,76,44,31,35,24,16,27\\r\\n43,306,57,49,124,146,110,57,34,23,27,27,16,33\\r\\n76,259,29,42,88,93,138,49,40,28,35,24,19,26\\r\\n69,283,64,50,108,110,108,78,39,22,25,24,16,40\\r\\n23,278,39,33,121,131,138,84,37,29,33,26,18,22\\r\\n42,295,60,36,89,99,98,70,43,31,44,23,20,23\\r\\n60,259,71,33,97,81,109,49,36,19,29,30,19,33\\r\\n79,252,53,42,123,73,127,81,45,26,30,33,15,0\\r\\n47,179,34,46,102,71,111,74,39,29,30,23,20,17\\r\\n71,338,34,49,90,103,144,55,44,21,39,28,15,23\\r\\n56,144,43,32,104,95,94,61,34,29,37,27,17,6\\r\\n61,259,61,46,118,117,97,81,38,25,34,33,17,11\\r\\n43,319,74,40,126,146,124,86,36,23,41,26,15,4\\r\\n78,180,35,39,98,72,109,55,34,29,26,29,15,10\\r\\n39,130,54,42,118,74,105,70,36,31,39,29,19,4\\r\\n80,150,37,32,134,143,132,55,36,23,31,23,19,30\\r\\n80,182,53,42,121,93,139,67,34,29,35,31,19,46\\r\\n50,174,68,46,92,109,113,71,36,31,37,31,19,3\\r\\n33,268,45,44,106,120,142,75,33,21,30,28,19,7\\r\\n34,166,75,42,127,114,112,51,37,29,33,26,20,7\\r\\n32,183,72,41,83,135,119,83,40,19,41,23,19,10\\r\\n63,356,52,39,119,107,132,49,41,30,34,30,19,2\\r\\n79,190,42,38,81,97,132,67,47,29,42,33,17,46\\r\\n72,179,67,37,93,138,117,83,40,21,26,33,17,42\\r\\n73,334,40,31,97,115,118,49,35,22,34,27,15,27\\r\\n53,291,29,34,113,98,110,53,45,28,24,28,18,21\\r\\n60,160,58,48,118,84,144,53,42,27,38,32,15,46\\r\\n56,269,45,31,111,114,128,76,38,27,31,29,19,29\\r\\n72,147,39,38,126,71,114,49,48,19,41,29,17,13\\r\\n56,195,33,44,83,129,102,68,40,31,33,23,18,3\\r\\n37,293,42,32,90,140,99,62,41,21,39,29,18,8\\r\\n73,178,50,37,129,71,101,69,46,23,30,29,19,6\\r\\n27,249,68,36,130,87,145,57,48,24,29,26,15,8\\r\\n59,139,68,44,120,99,124,53,42,24,29,31,19,31\\r\\n56,196,31,38,119,123,136,70,48,19,38,21,19,10\\r\\n60,312,36,47,135,73,122,55,43,29,39,23,19,11\\r\\n40,169,52,47,111,145,141,60,37,30,27,26,17,13\\r\\n61,279,66,44,118,108,101,66,37,30,31,24,16,20\\r\\n60,195,56,42,115,97,102,62,47,31,31,25,15,36\\r\\n69,299,48,49,106,127,121,58,48,19,34,33,19,2\\r\\n44,123,42,38,95,74,86,85,38,19,40,29,20,42\\r\\n41,235,56,50,131,121,111,66,46,23,32,26,15,33\\r\\n50,336,64,45,97,127,133,73,35,21,24,27,19,35\\r\\n56,214,33,36,99,69,92,66,36,24,25,26,15,46\\r\\n56,296,50,37,109,127,145,66,40,31,43,27,18,8\\r\\n29,144,38,44,106,88,91,48,48,26,31,29,16,1\\r\\n44,174,31,37,102,88,110,56,42,21,29,28,18,6\\r\\n68,238,56,31,79,81,133,55,47,21,44,24,17,18\\r\\n52,220,56,44,124,103,85,57,44,23,40,31,15,38\\r\\n55,277,60,50,94,122,90,73,37,23,43,31,15,46\\r\\n50,340,63,44,131,98,107,67,38,28,44,22,19,2\\r\\n47,309,40,45,125,94,136,62,44,21,32,22,20,23\\r\\n58,160,67,40,91,143,136,54,47,31,42,27,17,19\\r\\n62,130,59,48,94,71,138,50,48,26,35,25,15,19\\r\\n80,230,39,41,117,104,129,62,36,24,35,30,19,38\\r\\n69,177,61,39,106,110,120,68,42,26,28,24,17,14\\r\\n32,158,40,38,111,71,103,69,48,28,39,25,20,28\\r\\n37,251,67,36,104,134,121,77,43,28,25,26,19,33\\r\\n74,234,35,35,88,126,112,82,45,23,24,26,18,10\\r\\n38,282,53,47,129,94,118,67,35,27,33,30,17,35\\r\\n40,156,46,32,106,125,135,79,40,23,28,21,20,4\\r\\n34,171,53,47,116,126,91,55,48,32,32,27,17,16\\r\\n74,122,39,38,86,137,101,69,36,20,43,28,16,32\\r\\n45,168,36,43,100,146,132,58,42,32,43,22,17,30\\r\\n44,145,32,34,96,123,103,68,43,21,28,24,19,40\\r\\n27,178,52,44,106,73,89,57,48,27,40,29,19,27\\r\\n70,318,56,41,92,102,133,63,36,32,26,23,17,29\\r\\n44,174,33,46,95,138,107,74,45,19,44,28,15,44\\r\\n40,297,55,42,131,107,125,59,44,19,29,22,18,9\\r\\n50,221,34,43,122,137,131,84,37,27,41,30,18,42\\r\\n46,178,49,44,134,131,118,66,47,21,28,29,15,26\\r\\n63,323,47,34,122,76,92,72,43,27,35,26,17,36\\r\\n75,362,51,33,79,99,118,54,40,22,32,28,18,28\\r\\n34,302,73,38,87,96,131,59,45,28,28,22,16,0\\r\\n58,232,56,50,92,125,141,80,33,32,30,30,20,0\\r\\n23,329,44,50,106,109,127,80,41,31,26,24,19,12\\r\\n59,129,56,46,105,126,132,66,45,27,37,29,15,23\\r\\n79,185,40,42,127,109,122,65,38,21,33,31,19,2\\r\\n29,196,55,39,102,130,121,68,38,20,38,26,17,25\\r\\n23,336,72,44,123,92,98,64,39,20,36,30,16,11\\r\\n37,310,68,35,81,126,89,72,33,29,30,23,20,14\\r\\n60,166,59,38,127,117,118,58,38,25,26,27,17,10\\r\\n22,336,44,49,111,72,140,64,41,26,27,30,18,46\\r\\n30,175,32,46,79,129,88,55,33,26,28,29,20,18\\r\\n69,126,54,42,130,110,141,57,45,29,33,30,19,20\\r\\n63,251,68,49,94,76,141,86,38,24,34,29,17,11\\r\\n43,224,51,42,134,107,125,69,43,22,32,32,18,22\\r\\n37,261,53,43,88,110,131,65,43,26,25,30,18,19\\r\\n53,262,29,33,117,129,93,54,34,27,38,24,18,9\\r\\n55,186,47,46,102,89,89,69,33,28,27,31,20,32\\r\\n70,199,43,43,91,130,99,56,33,27,34,31,20,10\\r\\n71,337,70,33,103,127,126,75,48,25,40,22,16,16\\r\\n61,214,63,36,106,87,145,73,37,31,42,27,19,7\\r\\n31,270,70,37,100,76,116,67,45,24,25,29,19,30\\r\\n58,271,64,31,87,70,143,50,40,31,44,33,20,43\\r\\n64,240,31,49,82,80,89,82,41,32,32,33,19,2\\r\\n71,145,33,49,81,128,145,55,37,26,44,28,15,16\\r\\n29,342,54,31,122,72,116,74,43,22,37,29,15,43\\r\\n63,209,71,37,94,104,93,85,37,20,44,23,18,14\\r\\n41,352,37,42,119,105,94,79,38,26,24,22,19,43\\r\\n49,170,32,41,103,104,105,58,35,24,34,32,15,43\\r\\n76,196,55,36,100,89,86,85,35,25,29,21,17,9\\r\\n48,220,46,41,108,145,98,79,35,22,40,26,18,32\\r\\n70,333,39,34,83,105,135,72,48,27,37,28,20,38\\r\\n29,333,61,44,132,136,128,83,38,22,38,32,16,34\\r\\n64,284,40,33,79,80,132,78,47,27,28,26,20,25\\r\\n24,268,66,43,103,101,88,81,39,26,26,25,17,7\\r\\n72,125,33,38,94,145,87,82,45,22,44,33,15,18\\r\\n47,142,45,50,132,99,129,74,44,24,29,33,20,11\\r\\n57,308,46,41,121,100,85,85,37,22,38,32,17,34\\r\\n54,171,36,43,101,78,102,57,48,32,38,24,16,24\\r\\n41,167,30,49,133,73,113,64,33,22,32,26,15,46\\r\\n74,130,53,48,103,90,140,73,38,32,43,26,16,28\\r\\n51,210,44,40,107,73,90,69,35,19,24,29,19,37\\r\\n30,311,71,49,121,144,112,52,45,32,31,31,15,27\\r\\n65,152,60,39,79,80,89,65,46,23,43,29,20,23\\r\\n62,158,39,39,85,102,116,75,40,19,27,28,19,5\\r\\n74,147,45,48,100,140,107,72,37,22,28,33,17,27\\r\\n38,202,53,33,86,82,96,73,39,31,32,22,20,42\\r\\n53,319,63,48,134,137,112,49,36,29,30,23,16,17\\r\\n61,345,73,42,102,127,120,58,40,25,33,26,16,5\\r\\n73,206,47,44,85,79,92,56,44,21,32,27,16,6\\r\\n64,232,51,45,93,131,132,61,36,32,26,30,18,17\\r\\n27,241,52,43,117,80,139,64,48,25,36,28,16,7\\r\\n69,188,69,35,114,102,107,60,36,21,39,25,19,4\\r\\n79,178,39,49,82,105,134,60,36,32,26,30,17,9\\r\\n38,259,74,34,90,71,132,58,34,19,33,27,20,22\\r\\n62,299,34,45,105,123,131,73,45,28,41,26,15,16\\r\\n48,158,62,40,82,133,127,78,44,30,32,32,18,24\\r\\n28,328,52,40,92,114,88,63,38,30,43,22,18,6\\r\\n79,160,65,37,86,137,100,61,44,25,27,26,18,46\\r\\n43,195,31,41,115,125,139,80,40,19,36,24,16,37\\r\\n77,308,75,40,111,76,117,60,35,24,41,27,19,40\\r\\n40,194,54,49,99,101,123,66,34,26,30,28,18,35\\r\\n52,265,45,39,102,136,102,64,35,25,41,21,17,40\\r\\n58,128,45,42,90,136,143,81,48,19,30,21,19,14\\r\\n39,337,61,31,122,80,102,57,36,23,42,27,17,14\\r\\n46,167,50,49,120,75,130,60,42,26,24,28,20,28\\r\\n48,318,41,35,117,70,131,47,35,27,31,29,19,21\\r\\n46,251,73,50,80,147,101,52,46,32,25,28,19,27\\r\\n61,188,35,49,128,114,101,57,41,24,25,23,18,23\\r\\n54,186,69,34,134,89,136,72,47,22,24,33,17,39\\r\\n45,330,41,47,123,121,87,50,33,23,41,22,16,32\\r\\n67,214,39,37,107,89,103,74,36,28,41,30,18,10\\r\\n74,349,61,48,88,121,118,67,43,28,40,25,19,44\\r\\n43,235,49,47,100,123,131,57,47,31,39,24,15,13\\r\\n23,194,69,46,100,143,107,54,47,30,43,33,18,43\\r\\n61,251,61,38,122,110,144,75,39,26,35,26,19,8\\r\\n41,191,47,50,92,102,145,67,41,32,32,32,16,19\\r\\n27,222,34,49,94,71,127,57,39,31,42,31,18,2\\r\\n66,268,67,34,116,107,90,64,36,26,27,21,19,18\\r\\n45,362,67,36,106,84,134,57,33,29,43,28,20,15\\r\\n38,154,68,44,92,133,88,82,42,25,44,23,19,7\\r\\n69,251,74,39,110,109,123,57,40,29,43,28,20,7\\r\\n31,232,64,33,94,111,107,50,40,30,40,26,15,24\\r\\n45,268,33,49,101,113,122,51,43,23,29,25,16,34\\r\\n76,220,59,34,88,129,116,61,46,27,43,26,20,11\\r\\n62,178,74,35,120,132,100,58,46,21,34,32,20,34\\r\\n62,247,53,50,106,89,141,54,38,20,35,32,18,30\\r\\n55,166,76,37,86,76,146,70,42,26,43,26,20,10\\r\\n80,260,43,42,126,94,110,47,42,25,29,22,15,13\\r\\n44,244,37,32,121,107,104,72,33,20,37,30,17,38\\r\\n43,264,72,40,133,107,86,81,39,27,26,24,20,40\\r\\n43,293,52,44,100,77,123,60,46,28,37,29,15,43\\r\\n24,345,48,32,96,115,110,77,36,23,25,28,18,38\\r\\n71,226,60,46,112,73,94,57,42,25,35,33,16,15\\r\\n39,345,38,33,86,96,91,49,36,24,25,30,18,27\\r\\n47,290,37,42,122,118,111,77,40,29,39,24,19,40\\r\\n31,326,58,38,123,80,134,69,42,21,33,25,19,27\\r\\n79,162,70,41,81,88,113,74,44,30,24,31,16,17\\r\\n37,328,49,33,106,125,98,83,48,32,44,28,20,28\\r\\n37,162,74,48,107,133,117,52,39,22,44,29,20,22\\r\\n70,275,32,37,101,144,115,71,46,22,30,31,15,41\\r\\n62,307,63,48,120,137,111,85,36,22,33,23,15,1\\r\\n63,223,31,36,84,126,133,62,45,26,39,21,18,19\\r\\n32,314,70,49,91,86,125,59,38,23,31,27,18,45\\r\\n22,327,52,42,82,70,111,59,39,19,41,31,16,19\\r\\n35,326,65,44,120,128,105,85,41,20,40,21,20,5\\r\\n22,261,48,37,103,131,115,49,40,19,26,26,20,42\\r\\n59,201,61,31,121,117,134,63,36,22,32,30,17,23\\r\\n50,173,44,42,123,117,91,74,37,20,43,21,15,28\\r\\n69,262,53,41,84,101,93,62,33,21,44,22,17,39\\r\\n55,237,42,36,103,84,117,61,45,20,33,32,17,5\\r\\n31,195,76,35,116,132,104,51,44,22,38,30,18,23\\r\\n79,236,29,39,101,118,138,76,34,28,32,28,18,6\\r\\n57,242,41,46,112,107,145,47,48,21,33,23,18,43\\r\\n27,205,71,49,104,106,90,48,34,29,44,33,16,15\\r\\n43,157,49,35,116,117,129,49,36,21,44,30,20,22\\r\\n44,300,61,33,127,117,132,71,44,28,43,27,19,28\\r\\n46,338,49,40,84,129,128,55,38,31,43,25,16,7\\r\\n23,295,66,49,112,99,116,61,33,24,24,31,18,29\\r\\n47,257,74,46,101,143,130,55,33,25,32,29,15,7\\r\\n41,265,45,41,132,127,143,75,33,23,25,24,16,2\\r\\n73,255,69,44,125,78,113,81,44,30,43,33,15,41\\r\\n55,241,67,49,114,144,140,51,35,23,24,32,18,23\\r\\n'}"
            ]
          },
          "metadata": {
            "tags": []
          },
          "execution_count": 12
        },
        {
          "output_type": "stream",
          "text": [
            "time: 10.4 s (started: 2021-08-15 11:41:41 +00:00)\n"
          ],
          "name": "stdout"
        }
      ]
    },
    {
      "cell_type": "code",
      "metadata": {
        "colab": {
          "base_uri": "https://localhost:8080/"
        },
        "id": "vghbn50TYA9U",
        "outputId": "24865eab-81bb-4e81-c338-db1b72ce98cd"
      },
      "source": [
        "!pip install ipython-autotime\n",
        "%load_ext autotime"
      ],
      "execution_count": null,
      "outputs": [
        {
          "output_type": "stream",
          "text": [
            "Collecting ipython-autotime\n",
            "  Downloading ipython_autotime-0.3.1-py2.py3-none-any.whl (6.8 kB)\n",
            "Requirement already satisfied: ipython in /usr/local/lib/python3.7/dist-packages (from ipython-autotime) (5.5.0)\n",
            "Requirement already satisfied: traitlets>=4.2 in /usr/local/lib/python3.7/dist-packages (from ipython->ipython-autotime) (5.0.5)\n",
            "Requirement already satisfied: pickleshare in /usr/local/lib/python3.7/dist-packages (from ipython->ipython-autotime) (0.7.5)\n",
            "Requirement already satisfied: pygments in /usr/local/lib/python3.7/dist-packages (from ipython->ipython-autotime) (2.6.1)\n",
            "Requirement already satisfied: simplegeneric>0.8 in /usr/local/lib/python3.7/dist-packages (from ipython->ipython-autotime) (0.8.1)\n",
            "Requirement already satisfied: prompt-toolkit<2.0.0,>=1.0.4 in /usr/local/lib/python3.7/dist-packages (from ipython->ipython-autotime) (1.0.18)\n",
            "Requirement already satisfied: decorator in /usr/local/lib/python3.7/dist-packages (from ipython->ipython-autotime) (4.4.2)\n",
            "Requirement already satisfied: setuptools>=18.5 in /usr/local/lib/python3.7/dist-packages (from ipython->ipython-autotime) (57.2.0)\n",
            "Requirement already satisfied: pexpect in /usr/local/lib/python3.7/dist-packages (from ipython->ipython-autotime) (4.8.0)\n",
            "Requirement already satisfied: wcwidth in /usr/local/lib/python3.7/dist-packages (from prompt-toolkit<2.0.0,>=1.0.4->ipython->ipython-autotime) (0.2.5)\n",
            "Requirement already satisfied: six>=1.9.0 in /usr/local/lib/python3.7/dist-packages (from prompt-toolkit<2.0.0,>=1.0.4->ipython->ipython-autotime) (1.15.0)\n",
            "Requirement already satisfied: ipython-genutils in /usr/local/lib/python3.7/dist-packages (from traitlets>=4.2->ipython->ipython-autotime) (0.2.0)\n",
            "Requirement already satisfied: ptyprocess>=0.5 in /usr/local/lib/python3.7/dist-packages (from pexpect->ipython->ipython-autotime) (0.7.0)\n",
            "Installing collected packages: ipython-autotime\n",
            "Successfully installed ipython-autotime-0.3.1\n",
            "time: 183 µs (started: 2021-08-15 09:37:16 +00:00)\n"
          ],
          "name": "stdout"
        }
      ]
    },
    {
      "cell_type": "code",
      "metadata": {
        "colab": {
          "base_uri": "https://localhost:8080/"
        },
        "id": "gLYNxhJZS6pZ",
        "outputId": "4f3c4ca8-fca5-44fd-fe45-9b0290c41418"
      },
      "source": [
        "from pyspark import SQLContext, SparkConf, SparkContext\n",
        "from pyspark.sql import SparkSession\n",
        "import numpy as np # linear algebra\n",
        "import matplotlib.pyplot as plt\n",
        "\n",
        "sc = SparkContext.getOrCreate()\n",
        "if (sc is None):\n",
        "    sc = SparkContext(master=\"local[*]\", appName=\"Linear Regression\")\n",
        "spark = SparkSession(sparkContext=sc)\n",
        "sqlcontext = SQLContext(sc)\n",
        "data = sqlcontext.read.csv('./s.csv', header = True, inferSchema = True)\n",
        "from pyspark.ml.feature import VectorAssembler\n",
        "# mendifinisikan Salary sebagai variabel label/predictor\n",
        "dataset= data.select(data.usia , data.berat,  data.tinggi, data.leher, data.dada, data.perut, data.pinggul, data.paha, data.lutut, data.pk, data.bisep, data.lb, data.pt, data.lemak.alias('label'))\n",
        "\n",
        "# split data menjadi 70% training and 30% testing \n",
        "training, test = dataset.randomSplit([0.75, 0.25], seed = 100)\n",
        "# mengubah fitur menjadi vektor\n",
        "assembler = VectorAssembler(inputCols =['usia','berat','tinggi','dada', 'perut', 'pinggul', 'paha', 'lutut','pk','bisep','lb','pt'],\n",
        "                            outputCol='features')\n",
        "trainingSet = assembler.transform(training)\n",
        "# memilih kolom yang akan di vektorisasi\n",
        "trainingSet = trainingSet.select(\"features\",\"label\")\n",
        "from pyspark.ml.regression import LinearRegression\n",
        "# fit data training ke model\n",
        "lr = LinearRegression()\n",
        "lr_Model = lr.fit(trainingSet)\n",
        "# assembler : fitur menjadi vektor\n",
        "testSet = assembler.transform(test)\n",
        "# memilih kolom fitur dan label\n",
        "testSet = testSet.select(\"features\", \"label\")\n",
        "# fit testing data ke model linear regression\n",
        "testSet = lr_Model.transform(testSet)\n",
        "testSet.show(truncate=False)\n",
        "from pyspark.ml.evaluation import RegressionEvaluator\n",
        "evaluator = RegressionEvaluator()\n",
        "y=evaluator.evaluate(testSet, {evaluator.metricName: \"r2\"})\n",
        "print(y)\n"
      ],
      "execution_count": 11,
      "outputs": [
        {
          "output_type": "stream",
          "text": [
            "+------------------------------------------------------------------+-----+------------------+\n",
            "|features                                                          |label|prediction        |\n",
            "+------------------------------------------------------------------+-----+------------------+\n",
            "|[23.0,188.15,77.5,96.6,85.3,102.5,59.1,37.6,23.2,31.8,29.7,18.3]  |10.3 |10.148028894295244|\n",
            "|[24.0,184.25,71.25,97.3,100.0,101.9,63.2,42.2,24.0,32.2,27.7,17.7]|28.7 |25.108303120874417|\n",
            "|[24.0,208.5,72.75,102.0,99.1,110.1,71.2,43.5,25.2,36.1,30.3,18.7] |19.2 |23.16805743340708 |\n",
            "|[24.0,210.25,74.75,104.5,94.4,107.8,66.0,42.0,25.6,35.7,30.6,18.8]|20.9 |17.21429220206459 |\n",
            "|[26.0,181.0,69.75,105.1,90.7,100.3,58.4,38.3,22.9,31.9,27.8,17.7] |19.2 |16.5214116581756  |\n",
            "|[26.0,223.0,70.25,114.1,106.8,113.9,67.6,42.7,24.7,36.0,30.4,18.4]|25.2 |27.479499541478596|\n",
            "|[26.0,241.75,74.5,108.3,102.9,114.4,72.9,43.5,25.1,38.5,33.8,19.6]|19.6 |22.854422147151304|\n",
            "|[27.0,146.0,72.25,88.5,72.8,91.1,53.6,36.8,23.8,27.8,26.3,17.4]   |10.1 |3.662558633781096 |\n",
            "|[27.0,200.25,73.5,101.1,100.1,105.0,62.1,40.0,24.9,33.7,29.2,19.4]|21.0 |19.98212979714554 |\n",
            "|[27.0,216.0,76.0,103.6,90.9,107.7,66.2,39.2,25.9,37.2,30.2,19.0]  |7.8  |13.322683990528176|\n",
            "|[29.0,160.25,71.25,93.5,84.5,100.6,58.5,38.8,21.5,30.1,26.4,17.9] |5.7  |12.212259538883536|\n",
            "|[29.0,160.75,69.0,97.4,83.5,98.7,58.9,35.3,22.6,30.1,26.7,17.6]   |8.8  |12.688328732294686|\n",
            "|[31.0,151.25,72.25,94.0,81.2,91.5,52.5,36.6,21.0,27.0,26.3,16.5]  |9.4  |12.016230865460017|\n",
            "|[34.0,131.5,67.5,88.6,74.6,85.3,51.7,34.7,21.4,28.7,27.0,16.5]    |7.9  |9.71067617958495  |\n",
            "|[34.0,218.75,72.0,111.4,106.0,108.8,63.8,42.0,23.4,34.0,31.2,18.5]|27.3 |26.677184443975136|\n",
            "|[35.0,172.75,69.5,99.1,90.8,98.1,60.1,39.1,23.4,32.5,29.8,17.4]   |16.5 |20.322523410486788|\n",
            "|[35.0,187.75,69.5,101.3,96.4,100.1,69.0,39.0,23.1,36.1,30.5,18.2] |22.1 |25.47391385191805 |\n",
            "|[35.0,228.25,69.5,114.9,115.9,111.9,74.4,40.6,24.0,36.1,31.8,18.8]|34.3 |37.69271236406733 |\n",
            "|[38.0,187.25,69.25,102.7,92.7,101.9,64.7,39.5,24.7,34.8,30.3,18.1]|22.5 |20.729538388929136|\n",
            "|[39.0,166.75,70.75,92.9,86.1,95.6,58.8,36.1,22.4,32.7,28.3,17.1]  |21.8 |16.828597612050537|\n",
            "+------------------------------------------------------------------+-----+------------------+\n",
            "only showing top 20 rows\n",
            "\n",
            "0.6941663946661034\n",
            "time: 2.41 s (started: 2021-08-15 11:40:19 +00:00)\n"
          ],
          "name": "stdout"
        }
      ]
    },
    {
      "cell_type": "code",
      "metadata": {
        "id": "IlEIaVg__9xW"
      },
      "source": [
        ""
      ],
      "execution_count": null,
      "outputs": []
    },
    {
      "cell_type": "code",
      "metadata": {
        "colab": {
          "base_uri": "https://localhost:8080/"
        },
        "id": "R4U1tlw6TJSD",
        "outputId": "51516f63-663c-4d39-c336-b41708f17a0f"
      },
      "source": [
        "from pyspark import SQLContext, SparkConf, SparkContext\n",
        "from pyspark.sql import SparkSession\n",
        "sc = SparkContext.getOrCreate()\n",
        "if (sc is None):\n",
        "    sc = SparkContext(master=\"local[*]\", appName=\"Linear Regression\")\n",
        "spark = SparkSession(sparkContext=sc)\n",
        "sqlcontext = SQLContext(sc)\n",
        "data = sqlcontext.read.csv('./srr.csv', header = True, inferSchema = True)\n",
        "from pyspark.ml.feature import VectorAssembler\n",
        "# mendifinisikan Salary sebagai variabel label/predictor\n",
        "dataset= data.select(data.usia , data.berat,  data.tinggi, data.leher, data.dada, data.perut, data.pinggul, data.paha, data.lutut, data.pk, data.bisep, data.lb, data.pt, data.lemak.alias('label'))\n",
        "\n",
        "# split data menjadi 70% training and 30% testing \n",
        "training, test = dataset.randomSplit([0.75, 0.25], seed = 100)\n",
        "# mengubah fitur menjadi vektor\n",
        "assembler = VectorAssembler(inputCols =['usia','berat','tinggi','dada', 'perut', 'pinggul', 'paha', 'lutut','pk','bisep','lb','pt'],\n",
        "                            outputCol='features')\n",
        "trainingSet = assembler.transform(training)\n",
        "# memilih kolom yang akan di vektorisasi\n",
        "trainingSet = trainingSet.select(\"features\",\"label\")\n",
        "from pyspark.ml.regression import LinearRegression\n",
        "# fit data training ke model\n",
        "lr = LinearRegression()\n",
        "lr_Model = lr.fit(trainingSet)\n",
        "# assembler : fitur menjadi vektor\n",
        "testSet = assembler.transform(test)\n",
        "# memilih kolom fitur dan label\n",
        "testSet = testSet.select(\"features\", \"label\")\n",
        "# fit testing data ke model linear regression\n",
        "testSet = lr_Model.transform(testSet)\n",
        "testSet.show(truncate=False)\n",
        "\n",
        "from pyspark.ml.evaluation import RegressionEvaluator\n",
        "evaluator = RegressionEvaluator()\n",
        "print(evaluator.evaluate(testSet, {evaluator.metricName: \"r2\"}))"
      ],
      "execution_count": 13,
      "outputs": [
        {
          "output_type": "stream",
          "text": [
            "+-----------------------------------------------------------------+-----+------------------+\n",
            "|features                                                         |label|prediction        |\n",
            "+-----------------------------------------------------------------+-----+------------------+\n",
            "|[22.0,264.0,45.0,134.0,139.0,88.0,76.0,44.0,31.0,35.0,24.0,16.0] |27   |21.026042672077928|\n",
            "|[23.0,158.0,62.0,110.0,134.0,111.0,73.0,41.0,24.0,39.0,24.0,16.0]|26   |19.39967784088317 |\n",
            "|[23.0,194.0,69.0,100.0,143.0,107.0,54.0,47.0,30.0,43.0,33.0,18.0]|43   |20.241266060106966|\n",
            "|[23.0,224.0,76.0,107.0,117.0,117.0,47.0,34.0,30.0,33.0,29.0,15.0]|0    |22.17052338974672 |\n",
            "|[24.0,345.0,48.0,96.0,115.0,110.0,77.0,36.0,23.0,25.0,28.0,18.0] |38   |24.068351504007826|\n",
            "|[27.0,178.0,52.0,106.0,73.0,89.0,57.0,48.0,27.0,40.0,29.0,19.0]  |27   |19.03490063646843 |\n",
            "|[27.0,205.0,71.0,104.0,106.0,90.0,48.0,34.0,29.0,44.0,33.0,16.0] |15   |23.49096988813782 |\n",
            "|[27.0,241.0,52.0,117.0,80.0,139.0,64.0,48.0,25.0,36.0,28.0,16.0] |7    |21.171590190483577|\n",
            "|[29.0,144.0,38.0,106.0,88.0,91.0,48.0,48.0,26.0,31.0,29.0,16.0]  |1    |21.96382083703866 |\n",
            "|[29.0,196.0,55.0,102.0,130.0,121.0,68.0,38.0,20.0,38.0,26.0,17.0]|25   |20.654483709440314|\n",
            "|[31.0,232.0,64.0,94.0,111.0,107.0,50.0,40.0,30.0,40.0,26.0,15.0] |24   |21.02278952028976 |\n",
            "|[31.0,266.0,64.0,132.0,130.0,93.0,73.0,40.0,21.0,34.0,29.0,15.0] |17   |26.805317913275736|\n",
            "|[32.0,295.0,66.0,106.0,98.0,133.0,71.0,34.0,19.0,37.0,22.0,15.0] |35   |22.39706767180558 |\n",
            "|[34.0,305.0,53.0,93.0,138.0,120.0,63.0,36.0,27.0,24.0,30.0,19.0] |38   |22.297780235630594|\n",
            "|[37.0,162.0,74.0,107.0,133.0,117.0,52.0,39.0,22.0,44.0,29.0,20.0]|22   |17.923138113907587|\n",
            "|[37.0,328.0,49.0,106.0,125.0,98.0,83.0,48.0,32.0,44.0,28.0,20.0] |28   |19.554957174275668|\n",
            "|[38.0,202.0,53.0,86.0,82.0,96.0,73.0,39.0,31.0,32.0,22.0,20.0]   |42   |15.852456434222916|\n",
            "|[39.0,130.0,54.0,118.0,74.0,105.0,70.0,36.0,31.0,39.0,29.0,19.0] |4    |18.023874344136544|\n",
            "|[40.0,194.0,54.0,99.0,101.0,123.0,66.0,34.0,26.0,30.0,28.0,18.0] |35   |20.47345206650901 |\n",
            "|[41.0,191.0,47.0,92.0,102.0,145.0,67.0,41.0,32.0,32.0,32.0,16.0] |19   |21.654570882865578|\n",
            "+-----------------------------------------------------------------+-----+------------------+\n",
            "only showing top 20 rows\n",
            "\n",
            "-0.0932427589083471\n",
            "time: 2.16 s (started: 2021-08-15 11:42:05 +00:00)\n"
          ],
          "name": "stdout"
        }
      ]
    },
    {
      "cell_type": "markdown",
      "metadata": {
        "id": "sES7jRcW4Wbz"
      },
      "source": [
        "-> running waktu untuk membandingkan dengan pandas/sklearn"
      ]
    }
  ]
}